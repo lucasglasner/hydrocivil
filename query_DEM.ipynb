{
 "cells": [
  {
   "cell_type": "code",
   "execution_count": 1,
   "metadata": {},
   "outputs": [],
   "source": [
    "from web.downloads import OpenTopo"
   ]
  },
  {
   "cell_type": "code",
   "execution_count": 2,
   "metadata": {},
   "outputs": [],
   "source": [
    "# Example download european data\n",
    "demtype = 'COP30'\n",
    "regionofinterest = (-72, -70, -33, -31)\n",
    "ofile = f'data/DEMs/ESA_{demtype}.tif'\n",
    "API_KEY = open('.opentopoapikey').read()\n",
    "response = OpenTopo(DATASET=demtype,\n",
    "                    ROI=regionofinterest,\n",
    "                    OUTPUTPATH=ofile,\n",
    "                    API_KEY=API_KEY)"
   ]
  },
  {
   "cell_type": "code",
   "execution_count": 3,
   "metadata": {},
   "outputs": [],
   "source": [
    "# Example download north-american data\n",
    "demtype = 'NASADEM'\n",
    "regionofinterest = (-72, -70, -33, -31)\n",
    "ofile = f'data/DEMs/{demtype}.tif'\n",
    "API_KEY = open('.opentopoapikey').read()\n",
    "response = OpenTopo(DATASET=demtype,\n",
    "                    ROI=regionofinterest,\n",
    "                    OUTPUTPATH=ofile,\n",
    "                    API_KEY=API_KEY)"
   ]
  },
  {
   "cell_type": "code",
   "execution_count": 4,
   "metadata": {},
   "outputs": [],
   "source": [
    "# Example download japanese data\n",
    "demtype = 'AW3D30'\n",
    "regionofinterest = (-72, -70, -33, -31)\n",
    "ofile = f'data/DEMs/{demtype}.tif'\n",
    "API_KEY = open('.opentopoapikey').read()\n",
    "response = OpenTopo(DATASET=demtype,\n",
    "                    ROI=regionofinterest,\n",
    "                    OUTPUTPATH=ofile,\n",
    "                    API_KEY=API_KEY)"
   ]
  },
  {
   "cell_type": "markdown",
   "metadata": {},
   "source": [
    "---"
   ]
  },
  {
   "cell_type": "code",
   "execution_count": 5,
   "metadata": {},
   "outputs": [],
   "source": [
    "# Reproject to UTM19S\n",
    "\n",
    "from glob import glob\n",
    "import rioxarray as rxr\n",
    "\n",
    "for dem in glob('data/DEMs/*.tif'):\n",
    "    data = rxr.open_rasterio(dem)\n",
    "    data = data.rio.reproject('epsg:32719')\n",
    "    data = data.where(data>0).fillna(-9999).rio.write_nodata(-9999)\n",
    "    data.rio.to_raster(dem.replace('.tif','_UTM19S.tif'))"
   ]
  }
 ],
 "metadata": {
  "kernelspec": {
   "display_name": "gis",
   "language": "python",
   "name": "python3"
  },
  "language_info": {
   "codemirror_mode": {
    "name": "ipython",
    "version": 3
   },
   "file_extension": ".py",
   "mimetype": "text/x-python",
   "name": "python",
   "nbconvert_exporter": "python",
   "pygments_lexer": "ipython3",
   "version": "3.12.4"
  }
 },
 "nbformat": 4,
 "nbformat_minor": 2
}
